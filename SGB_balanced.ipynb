{
 "cells": [
  {
   "cell_type": "code",
   "execution_count": 12,
   "metadata": {},
   "outputs": [],
   "source": [
    "import numpy as np\n",
    "import pandas as pd\n",
    "import matplotlib.pyplot as plt\n",
    "import dask.dataframe as dd\n",
    "\n",
    "from xgboost import plot_importance\n",
    "from numpy import loadtxt\n",
    "from xgboost import XGBClassifier\n",
    "from sklearn.model_selection import train_test_split\n",
    "from sklearn.metrics import accuracy_score\n",
    "from sklearn.metrics import f1_score\n",
    "from sklearn.metrics import precision_score\n",
    "import pickle\n",
    "from tqdm import tqdm\n",
    "from sklearn.metrics import confusion_matrix\n",
    "from matplotlib import pyplot\n",
    "from sklearn.metrics import recall_score\n",
    "from sklearn.preprocessing import LabelEncoder\n",
    "from sklearn.model_selection import GridSearchCV\n",
    "import warnings; warnings.simplefilter('ignore')\n",
    "#from sklearn import grid_search\n",
    "#from sklearn import svm, grid_search, datasets\n",
    "\n",
    "#from sklearn.grid_search import GridSearchCV\n",
    "import matplotlib.pyplot as plt\n",
    "import seaborn as sns\n",
    "from sklearn.manifold import TSNE"
   ]
  },
  {
   "cell_type": "code",
   "execution_count": 3,
   "metadata": {
    "scrolled": true
   },
   "outputs": [
    {
     "name": "stdout",
     "output_type": "stream",
     "text": [
      "0.20.2\n"
     ]
    }
   ],
   "source": [
    "import sklearn\n",
    "print(sklearn.__version__)"
   ]
  },
  {
   "cell_type": "code",
   "execution_count": 4,
   "metadata": {
    "scrolled": true
   },
   "outputs": [
    {
     "name": "stdout",
     "output_type": "stream",
     "text": [
      "CPU times: user 3min 27s, sys: 23.7 s, total: 3min 51s\n",
      "Wall time: 3min 51s\n"
     ]
    }
   ],
   "source": [
    "%%time\n",
    "\n",
    "train = pd.read_csv(\"/home/hybrid/final_dataset.csv\",index_col=0,low_memory=False)\n",
    "\n"
   ]
  },
  {
   "cell_type": "code",
   "execution_count": null,
   "metadata": {},
   "outputs": [],
   "source": []
  },
  {
   "cell_type": "code",
   "execution_count": 5,
   "metadata": {
    "scrolled": false
   },
   "outputs": [
    {
     "data": {
      "text/plain": [
       "(12794627, 84)"
      ]
     },
     "execution_count": 5,
     "metadata": {},
     "output_type": "execute_result"
    }
   ],
   "source": [
    "####total number of bidirectional flows and features\n",
    "train.shape"
   ]
  },
  {
   "cell_type": "code",
   "execution_count": 10,
   "metadata": {
    "scrolled": true
   },
   "outputs": [
    {
     "name": "stdout",
     "output_type": "stream",
     "text": [
      "(12794627, 84)\n"
     ]
    },
    {
     "data": {
      "image/png": "[encoded data removed]",
      "text/plain": [
       "<Figure size 432x288 with 1 Axes>"
      ]
     },
     "metadata": {
      "needs_background": "light"
     },
     "output_type": "display_data"
    }
   ],
   "source": [
    "Y=train\n",
    "#print(Y)\n",
    "print(Y.shape)\n",
    "total = len(Y)*1.\n",
    "\n",
    "ax=sns.countplot(x=\"Label\", data=Y)\n",
    "for p in ax.patches:\n",
    "        ax.annotate('{:.1f}%'.format(100*p.get_height()/total), (p.get_x()+0.1, p.get_height()+5))\n",
    "\n",
    "#put 11 ticks (therefore 10 steps), from 0 to the total number of rows in the dataframe\n",
    "ax.yaxis.set_ticks(np.linspace(0, total, 2))\n",
    "\n",
    "#adjust the ticklabel to the desired format, without changing the position of the ticks. \n",
    "ax.set_yticklabels(map('{:.1f}%'.format, 100*ax.yaxis.get_majorticklocs()/total))\n",
    "#plt.savefig('foo.png')\n",
    "plt.show()"
   ]
  },
  {
   "cell_type": "code",
   "execution_count": 11,
   "metadata": {},
   "outputs": [
    {
     "data": {
      "text/html": [
       "<div>\n",
       "<style scoped>\n",
       "    .dataframe tbody tr th:only-of-type {\n",
       "        vertical-align: middle;\n",
       "    }\n",
       "\n",
       "    .dataframe tbody tr th {\n",
       "        vertical-align: top;\n",
       "    }\n",
       "\n",
       "    .dataframe thead th {\n",
       "        text-align: right;\n",
       "    }\n",
       "</style>\n",
       "<table border=\"1\" class=\"dataframe\">\n",
       "  <thead>\n",
       "    <tr style=\"text-align: right;\">\n",
       "      <th></th>\n",
       "      <th>Flow ID</th>\n",
       "      <th>Src IP</th>\n",
       "      <th>Src Port</th>\n",
       "      <th>Dst IP</th>\n",
       "      <th>Dst Port</th>\n",
       "      <th>Protocol</th>\n",
       "      <th>Timestamp</th>\n",
       "      <th>Flow Duration</th>\n",
       "      <th>Tot Fwd Pkts</th>\n",
       "      <th>Tot Bwd Pkts</th>\n",
       "      <th>TotLen Fwd Pkts</th>\n",
       "      <th>TotLen Bwd Pkts</th>\n",
       "      <th>Fwd Pkt Len Max</th>\n",
       "      <th>Fwd Pkt Len Min</th>\n",
       "      <th>Fwd Pkt Len Mean</th>\n",
       "      <th>Fwd Pkt Len Std</th>\n",
       "      <th>Bwd Pkt Len Max</th>\n",
       "      <th>Bwd Pkt Len Min</th>\n",
       "      <th>Bwd Pkt Len Mean</th>\n",
       "      <th>Bwd Pkt Len Std</th>\n",
       "      <th>Flow Byts/s</th>\n",
       "      <th>Flow Pkts/s</th>\n",
       "      <th>Flow IAT Mean</th>\n",
       "      <th>Flow IAT Std</th>\n",
       "      <th>Flow IAT Max</th>\n",
       "      <th>Flow IAT Min</th>\n",
       "      <th>Fwd IAT Tot</th>\n",
       "      <th>Fwd IAT Mean</th>\n",
       "      <th>Fwd IAT Std</th>\n",
       "      <th>Fwd IAT Max</th>\n",
       "      <th>Fwd IAT Min</th>\n",
       "      <th>Bwd IAT Tot</th>\n",
       "      <th>Bwd IAT Mean</th>\n",
       "      <th>Bwd IAT Std</th>\n",
       "      <th>Bwd IAT Max</th>\n",
       "      <th>Bwd IAT Min</th>\n",
       "      <th>Fwd PSH Flags</th>\n",
       "      <th>Bwd PSH Flags</th>\n",
       "      <th>Fwd URG Flags</th>\n",
       "      <th>Bwd URG Flags</th>\n",
       "      <th>Fwd Header Len</th>\n",
       "      <th>Bwd Header Len</th>\n",
       "      <th>Fwd Pkts/s</th>\n",
       "      <th>Bwd Pkts/s</th>\n",
       "      <th>Pkt Len Min</th>\n",
       "      <th>Pkt Len Max</th>\n",
       "      <th>Pkt Len Mean</th>\n",
       "      <th>Pkt Len Std</th>\n",
       "      <th>Pkt Len Var</th>\n",
       "      <th>FIN Flag Cnt</th>\n",
       "      <th>SYN Flag Cnt</th>\n",
       "      <th>RST Flag Cnt</th>\n",
       "      <th>PSH Flag Cnt</th>\n",
       "      <th>ACK Flag Cnt</th>\n",
       "      <th>URG Flag Cnt</th>\n",
       "      <th>CWE Flag Count</th>\n",
       "      <th>ECE Flag Cnt</th>\n",
       "      <th>Down/Up Ratio</th>\n",
       "      <th>Pkt Size Avg</th>\n",
       "      <th>Fwd Seg Size Avg</th>\n",
       "      <th>Bwd Seg Size Avg</th>\n",
       "      <th>Fwd Byts/b Avg</th>\n",
       "      <th>Fwd Pkts/b Avg</th>\n",
       "      <th>Fwd Blk Rate Avg</th>\n",
       "      <th>Bwd Byts/b Avg</th>\n",
       "      <th>Bwd Pkts/b Avg</th>\n",
       "      <th>Bwd Blk Rate Avg</th>\n",
       "      <th>Subflow Fwd Pkts</th>\n",
       "      <th>Subflow Fwd Byts</th>\n",
       "      <th>Subflow Bwd Pkts</th>\n",
       "      <th>Subflow Bwd Byts</th>\n",
       "      <th>Init Fwd Win Byts</th>\n",
       "      <th>Init Bwd Win Byts</th>\n",
       "      <th>Fwd Act Data Pkts</th>\n",
       "      <th>Fwd Seg Size Min</th>\n",
       "      <th>Active Mean</th>\n",
       "      <th>Active Std</th>\n",
       "      <th>Active Max</th>\n",
       "      <th>Active Min</th>\n",
       "      <th>Idle Mean</th>\n",
       "      <th>Idle Std</th>\n",
       "      <th>Idle Max</th>\n",
       "      <th>Idle Min</th>\n",
       "      <th>Label</th>\n",
       "    </tr>\n",
       "  </thead>\n",
       "  <tbody>\n",
       "    <tr>\n",
       "      <th>972332</th>\n",
       "      <td>172.31.69.25-18.219.193.20-80-54418-6</td>\n",
       "      <td>18.219.193.20</td>\n",
       "      <td>54418</td>\n",
       "      <td>172.31.69.25</td>\n",
       "      <td>80</td>\n",
       "      <td>6</td>\n",
       "      <td>16/02/2018 11:21:43 PM</td>\n",
       "      <td>4891</td>\n",
       "      <td>1</td>\n",
       "      <td>1</td>\n",
       "      <td>0.0</td>\n",
       "      <td>0.0</td>\n",
       "      <td>0.0</td>\n",
       "      <td>0.0</td>\n",
       "      <td>0.00</td>\n",
       "      <td>0.000000</td>\n",
       "      <td>0.0</td>\n",
       "      <td>0.0</td>\n",
       "      <td>0.0</td>\n",
       "      <td>0.000000</td>\n",
       "      <td>0.0</td>\n",
       "      <td>408.9143324473522</td>\n",
       "      <td>4891.000000</td>\n",
       "      <td>0.000000e+00</td>\n",
       "      <td>4891.0</td>\n",
       "      <td>4891.0</td>\n",
       "      <td>0.0</td>\n",
       "      <td>0.000000</td>\n",
       "      <td>0.00000</td>\n",
       "      <td>0.0</td>\n",
       "      <td>0.0</td>\n",
       "      <td>0.0</td>\n",
       "      <td>0.00</td>\n",
       "      <td>0.000000e+00</td>\n",
       "      <td>0.0</td>\n",
       "      <td>0.0</td>\n",
       "      <td>0</td>\n",
       "      <td>0</td>\n",
       "      <td>0</td>\n",
       "      <td>0</td>\n",
       "      <td>32</td>\n",
       "      <td>32</td>\n",
       "      <td>204.457166</td>\n",
       "      <td>204.457166</td>\n",
       "      <td>0.0</td>\n",
       "      <td>0.0</td>\n",
       "      <td>0.000000</td>\n",
       "      <td>0.000000</td>\n",
       "      <td>0.000000</td>\n",
       "      <td>0</td>\n",
       "      <td>0</td>\n",
       "      <td>0</td>\n",
       "      <td>0</td>\n",
       "      <td>1</td>\n",
       "      <td>0</td>\n",
       "      <td>0</td>\n",
       "      <td>0</td>\n",
       "      <td>1.0</td>\n",
       "      <td>0.000000</td>\n",
       "      <td>0.00</td>\n",
       "      <td>0.0</td>\n",
       "      <td>0</td>\n",
       "      <td>0</td>\n",
       "      <td>0</td>\n",
       "      <td>0</td>\n",
       "      <td>0</td>\n",
       "      <td>0</td>\n",
       "      <td>1</td>\n",
       "      <td>0</td>\n",
       "      <td>1</td>\n",
       "      <td>0</td>\n",
       "      <td>-1</td>\n",
       "      <td>225</td>\n",
       "      <td>0</td>\n",
       "      <td>0</td>\n",
       "      <td>0.0</td>\n",
       "      <td>0.0</td>\n",
       "      <td>0.0</td>\n",
       "      <td>0.0</td>\n",
       "      <td>0.0</td>\n",
       "      <td>0.0</td>\n",
       "      <td>0.0</td>\n",
       "      <td>0.0</td>\n",
       "      <td>ddos</td>\n",
       "    </tr>\n",
       "    <tr>\n",
       "      <th>1613782</th>\n",
       "      <td>172.31.0.2-172.31.67.15-53-50955-17</td>\n",
       "      <td>172.31.67.15</td>\n",
       "      <td>50955</td>\n",
       "      <td>172.31.0.2</td>\n",
       "      <td>53</td>\n",
       "      <td>17</td>\n",
       "      <td>20/02/2018 04:52:40</td>\n",
       "      <td>1110</td>\n",
       "      <td>1</td>\n",
       "      <td>1</td>\n",
       "      <td>43.0</td>\n",
       "      <td>71.0</td>\n",
       "      <td>43.0</td>\n",
       "      <td>43.0</td>\n",
       "      <td>43.00</td>\n",
       "      <td>0.000000</td>\n",
       "      <td>71.0</td>\n",
       "      <td>71.0</td>\n",
       "      <td>71.0</td>\n",
       "      <td>0.000000</td>\n",
       "      <td>102702.70270270269</td>\n",
       "      <td>1801.8018018018017</td>\n",
       "      <td>1110.000000</td>\n",
       "      <td>0.000000e+00</td>\n",
       "      <td>1110.0</td>\n",
       "      <td>1110.0</td>\n",
       "      <td>0.0</td>\n",
       "      <td>0.000000</td>\n",
       "      <td>0.00000</td>\n",
       "      <td>0.0</td>\n",
       "      <td>0.0</td>\n",
       "      <td>0.0</td>\n",
       "      <td>0.00</td>\n",
       "      <td>0.000000e+00</td>\n",
       "      <td>0.0</td>\n",
       "      <td>0.0</td>\n",
       "      <td>0</td>\n",
       "      <td>0</td>\n",
       "      <td>0</td>\n",
       "      <td>0</td>\n",
       "      <td>8</td>\n",
       "      <td>8</td>\n",
       "      <td>900.900901</td>\n",
       "      <td>900.900901</td>\n",
       "      <td>43.0</td>\n",
       "      <td>71.0</td>\n",
       "      <td>52.333333</td>\n",
       "      <td>16.165808</td>\n",
       "      <td>261.333333</td>\n",
       "      <td>0</td>\n",
       "      <td>0</td>\n",
       "      <td>0</td>\n",
       "      <td>0</td>\n",
       "      <td>0</td>\n",
       "      <td>0</td>\n",
       "      <td>0</td>\n",
       "      <td>0</td>\n",
       "      <td>1.0</td>\n",
       "      <td>78.500000</td>\n",
       "      <td>43.00</td>\n",
       "      <td>71.0</td>\n",
       "      <td>0</td>\n",
       "      <td>0</td>\n",
       "      <td>0</td>\n",
       "      <td>0</td>\n",
       "      <td>0</td>\n",
       "      <td>0</td>\n",
       "      <td>1</td>\n",
       "      <td>43</td>\n",
       "      <td>1</td>\n",
       "      <td>71</td>\n",
       "      <td>-1</td>\n",
       "      <td>-1</td>\n",
       "      <td>0</td>\n",
       "      <td>8</td>\n",
       "      <td>0.0</td>\n",
       "      <td>0.0</td>\n",
       "      <td>0.0</td>\n",
       "      <td>0.0</td>\n",
       "      <td>0.0</td>\n",
       "      <td>0.0</td>\n",
       "      <td>0.0</td>\n",
       "      <td>0.0</td>\n",
       "      <td>Benign</td>\n",
       "    </tr>\n",
       "    <tr>\n",
       "      <th>313508</th>\n",
       "      <td>172.31.69.28-18.218.115.60-80-49566-6</td>\n",
       "      <td>18.218.115.60</td>\n",
       "      <td>49566</td>\n",
       "      <td>172.31.69.28</td>\n",
       "      <td>80</td>\n",
       "      <td>6</td>\n",
       "      <td>21/02/2018 11:47:43 PM</td>\n",
       "      <td>19927</td>\n",
       "      <td>2</td>\n",
       "      <td>5</td>\n",
       "      <td>316.0</td>\n",
       "      <td>935.0</td>\n",
       "      <td>316.0</td>\n",
       "      <td>0.0</td>\n",
       "      <td>158.00</td>\n",
       "      <td>223.445743</td>\n",
       "      <td>935.0</td>\n",
       "      <td>0.0</td>\n",
       "      <td>187.0</td>\n",
       "      <td>418.144712</td>\n",
       "      <td>62779.14387514428</td>\n",
       "      <td>351.2821799568425</td>\n",
       "      <td>3321.166667</td>\n",
       "      <td>7.743265e+03</td>\n",
       "      <td>19122.0</td>\n",
       "      <td>4.0</td>\n",
       "      <td>19122.0</td>\n",
       "      <td>19122.000000</td>\n",
       "      <td>0.00000</td>\n",
       "      <td>19122.0</td>\n",
       "      <td>19122.0</td>\n",
       "      <td>19927.0</td>\n",
       "      <td>4981.75</td>\n",
       "      <td>9.601550e+03</td>\n",
       "      <td>19380.0</td>\n",
       "      <td>8.0</td>\n",
       "      <td>0</td>\n",
       "      <td>0</td>\n",
       "      <td>0</td>\n",
       "      <td>0</td>\n",
       "      <td>40</td>\n",
       "      <td>124</td>\n",
       "      <td>100.366337</td>\n",
       "      <td>250.915843</td>\n",
       "      <td>0.0</td>\n",
       "      <td>935.0</td>\n",
       "      <td>156.375000</td>\n",
       "      <td>333.478608</td>\n",
       "      <td>111207.982143</td>\n",
       "      <td>0</td>\n",
       "      <td>1</td>\n",
       "      <td>0</td>\n",
       "      <td>0</td>\n",
       "      <td>0</td>\n",
       "      <td>0</td>\n",
       "      <td>1</td>\n",
       "      <td>1</td>\n",
       "      <td>2.0</td>\n",
       "      <td>178.714286</td>\n",
       "      <td>158.00</td>\n",
       "      <td>187.0</td>\n",
       "      <td>0</td>\n",
       "      <td>0</td>\n",
       "      <td>0</td>\n",
       "      <td>0</td>\n",
       "      <td>0</td>\n",
       "      <td>0</td>\n",
       "      <td>2</td>\n",
       "      <td>316</td>\n",
       "      <td>5</td>\n",
       "      <td>935</td>\n",
       "      <td>-1</td>\n",
       "      <td>219</td>\n",
       "      <td>1</td>\n",
       "      <td>0</td>\n",
       "      <td>0.0</td>\n",
       "      <td>0.0</td>\n",
       "      <td>0.0</td>\n",
       "      <td>0.0</td>\n",
       "      <td>0.0</td>\n",
       "      <td>0.0</td>\n",
       "      <td>0.0</td>\n",
       "      <td>0.0</td>\n",
       "      <td>ddos</td>\n",
       "    </tr>\n",
       "    <tr>\n",
       "      <th>3455883</th>\n",
       "      <td>172.31.69.25-18.219.193.20-80-59868-6</td>\n",
       "      <td>172.31.69.25</td>\n",
       "      <td>80</td>\n",
       "      <td>18.219.193.20</td>\n",
       "      <td>59868</td>\n",
       "      <td>6</td>\n",
       "      <td>16/02/2018 11:27:06 PM</td>\n",
       "      <td>4418077</td>\n",
       "      <td>4</td>\n",
       "      <td>4</td>\n",
       "      <td>935.0</td>\n",
       "      <td>290.0</td>\n",
       "      <td>935.0</td>\n",
       "      <td>0.0</td>\n",
       "      <td>233.75</td>\n",
       "      <td>467.500000</td>\n",
       "      <td>290.0</td>\n",
       "      <td>0.0</td>\n",
       "      <td>72.5</td>\n",
       "      <td>145.000000</td>\n",
       "      <td>277.26995251554007</td>\n",
       "      <td>1.8107425470402616</td>\n",
       "      <td>631153.857143</td>\n",
       "      <td>1.624567e+06</td>\n",
       "      <td>4314301.0</td>\n",
       "      <td>7.0</td>\n",
       "      <td>103768.0</td>\n",
       "      <td>34589.333333</td>\n",
       "      <td>59412.24757</td>\n",
       "      <td>103192.0</td>\n",
       "      <td>22.0</td>\n",
       "      <td>4417494.0</td>\n",
       "      <td>1472498.00</td>\n",
       "      <td>2.461609e+06</td>\n",
       "      <td>4314301.0</td>\n",
       "      <td>248.0</td>\n",
       "      <td>0</td>\n",
       "      <td>0</td>\n",
       "      <td>0</td>\n",
       "      <td>0</td>\n",
       "      <td>136</td>\n",
       "      <td>136</td>\n",
       "      <td>0.905371</td>\n",
       "      <td>0.905371</td>\n",
       "      <td>0.0</td>\n",
       "      <td>935.0</td>\n",
       "      <td>136.111111</td>\n",
       "      <td>314.560982</td>\n",
       "      <td>98948.611111</td>\n",
       "      <td>0</td>\n",
       "      <td>0</td>\n",
       "      <td>0</td>\n",
       "      <td>0</td>\n",
       "      <td>1</td>\n",
       "      <td>0</td>\n",
       "      <td>0</td>\n",
       "      <td>0</td>\n",
       "      <td>1.0</td>\n",
       "      <td>153.125000</td>\n",
       "      <td>233.75</td>\n",
       "      <td>72.5</td>\n",
       "      <td>0</td>\n",
       "      <td>0</td>\n",
       "      <td>0</td>\n",
       "      <td>0</td>\n",
       "      <td>0</td>\n",
       "      <td>0</td>\n",
       "      <td>4</td>\n",
       "      <td>935</td>\n",
       "      <td>4</td>\n",
       "      <td>290</td>\n",
       "      <td>-1</td>\n",
       "      <td>211</td>\n",
       "      <td>1</td>\n",
       "      <td>0</td>\n",
       "      <td>0.0</td>\n",
       "      <td>0.0</td>\n",
       "      <td>0.0</td>\n",
       "      <td>0.0</td>\n",
       "      <td>0.0</td>\n",
       "      <td>0.0</td>\n",
       "      <td>0.0</td>\n",
       "      <td>0.0</td>\n",
       "      <td>ddos</td>\n",
       "    </tr>\n",
       "    <tr>\n",
       "      <th>623595</th>\n",
       "      <td>172.31.69.25-18.219.193.20-80-34736-6</td>\n",
       "      <td>18.219.193.20</td>\n",
       "      <td>34736</td>\n",
       "      <td>172.31.69.25</td>\n",
       "      <td>80</td>\n",
       "      <td>6</td>\n",
       "      <td>16/02/2018 11:19:09 PM</td>\n",
       "      <td>4330</td>\n",
       "      <td>1</td>\n",
       "      <td>1</td>\n",
       "      <td>0.0</td>\n",
       "      <td>0.0</td>\n",
       "      <td>0.0</td>\n",
       "      <td>0.0</td>\n",
       "      <td>0.00</td>\n",
       "      <td>0.000000</td>\n",
       "      <td>0.0</td>\n",
       "      <td>0.0</td>\n",
       "      <td>0.0</td>\n",
       "      <td>0.000000</td>\n",
       "      <td>0.0</td>\n",
       "      <td>461.89376443418024</td>\n",
       "      <td>4330.000000</td>\n",
       "      <td>0.000000e+00</td>\n",
       "      <td>4330.0</td>\n",
       "      <td>4330.0</td>\n",
       "      <td>0.0</td>\n",
       "      <td>0.000000</td>\n",
       "      <td>0.00000</td>\n",
       "      <td>0.0</td>\n",
       "      <td>0.0</td>\n",
       "      <td>0.0</td>\n",
       "      <td>0.00</td>\n",
       "      <td>0.000000e+00</td>\n",
       "      <td>0.0</td>\n",
       "      <td>0.0</td>\n",
       "      <td>0</td>\n",
       "      <td>0</td>\n",
       "      <td>0</td>\n",
       "      <td>0</td>\n",
       "      <td>32</td>\n",
       "      <td>32</td>\n",
       "      <td>230.946882</td>\n",
       "      <td>230.946882</td>\n",
       "      <td>0.0</td>\n",
       "      <td>0.0</td>\n",
       "      <td>0.000000</td>\n",
       "      <td>0.000000</td>\n",
       "      <td>0.000000</td>\n",
       "      <td>0</td>\n",
       "      <td>0</td>\n",
       "      <td>0</td>\n",
       "      <td>0</td>\n",
       "      <td>1</td>\n",
       "      <td>0</td>\n",
       "      <td>0</td>\n",
       "      <td>0</td>\n",
       "      <td>1.0</td>\n",
       "      <td>0.000000</td>\n",
       "      <td>0.00</td>\n",
       "      <td>0.0</td>\n",
       "      <td>0</td>\n",
       "      <td>0</td>\n",
       "      <td>0</td>\n",
       "      <td>0</td>\n",
       "      <td>0</td>\n",
       "      <td>0</td>\n",
       "      <td>1</td>\n",
       "      <td>0</td>\n",
       "      <td>1</td>\n",
       "      <td>0</td>\n",
       "      <td>-1</td>\n",
       "      <td>225</td>\n",
       "      <td>0</td>\n",
       "      <td>0</td>\n",
       "      <td>0.0</td>\n",
       "      <td>0.0</td>\n",
       "      <td>0.0</td>\n",
       "      <td>0.0</td>\n",
       "      <td>0.0</td>\n",
       "      <td>0.0</td>\n",
       "      <td>0.0</td>\n",
       "      <td>0.0</td>\n",
       "      <td>ddos</td>\n",
       "    </tr>\n",
       "  </tbody>\n",
       "</table>\n",
       "</div>"
      ],
      "text/plain": [
       "                                       Flow ID         Src IP  Src Port  \\\n",
       "972332   172.31.69.25-18.219.193.20-80-54418-6  18.219.193.20     54418   \n",
       "1613782    172.31.0.2-172.31.67.15-53-50955-17   172.31.67.15     50955   \n",
       "313508   172.31.69.28-18.218.115.60-80-49566-6  18.218.115.60     49566   \n",
       "3455883  172.31.69.25-18.219.193.20-80-59868-6   172.31.69.25        80   \n",
       "623595   172.31.69.25-18.219.193.20-80-34736-6  18.219.193.20     34736   \n",
       "\n",
       "                Dst IP  Dst Port  Protocol               Timestamp  \\\n",
       "972332    172.31.69.25        80         6  16/02/2018 11:21:43 PM   \n",
       "1613782     172.31.0.2        53        17     20/02/2018 04:52:40   \n",
       "313508    172.31.69.28        80         6  21/02/2018 11:47:43 PM   \n",
       "3455883  18.219.193.20     59868         6  16/02/2018 11:27:06 PM   \n",
       "623595    172.31.69.25        80         6  16/02/2018 11:19:09 PM   \n",
       "\n",
       "         Flow Duration  Tot Fwd Pkts  Tot Bwd Pkts  TotLen Fwd Pkts  \\\n",
       "972332            4891             1             1              0.0   \n",
       "1613782           1110             1             1             43.0   \n",
       "313508           19927             2             5            316.0   \n",
       "3455883        4418077             4             4            935.0   \n",
       "623595            4330             1             1              0.0   \n",
       "\n",
       "         TotLen Bwd Pkts  Fwd Pkt Len Max  Fwd Pkt Len Min  Fwd Pkt Len Mean  \\\n",
       "972332               0.0              0.0              0.0              0.00   \n",
       "1613782             71.0             43.0             43.0             43.00   \n",
       "313508             935.0            316.0              0.0            158.00   \n",
       "3455883            290.0            935.0              0.0            233.75   \n",
       "623595               0.0              0.0              0.0              0.00   \n",
       "\n",
       "         Fwd Pkt Len Std  Bwd Pkt Len Max  Bwd Pkt Len Min  Bwd Pkt Len Mean  \\\n",
       "972332          0.000000              0.0              0.0               0.0   \n",
       "1613782         0.000000             71.0             71.0              71.0   \n",
       "313508        223.445743            935.0              0.0             187.0   \n",
       "3455883       467.500000            290.0              0.0              72.5   \n",
       "623595          0.000000              0.0              0.0               0.0   \n",
       "\n",
       "         Bwd Pkt Len Std         Flow Byts/s         Flow Pkts/s  \\\n",
       "972332          0.000000                 0.0   408.9143324473522   \n",
       "1613782         0.000000  102702.70270270269  1801.8018018018017   \n",
       "313508        418.144712   62779.14387514428   351.2821799568425   \n",
       "3455883       145.000000  277.26995251554007  1.8107425470402616   \n",
       "623595          0.000000                 0.0  461.89376443418024   \n",
       "\n",
       "         Flow IAT Mean  Flow IAT Std  Flow IAT Max  Flow IAT Min  Fwd IAT Tot  \\\n",
       "972332     4891.000000  0.000000e+00        4891.0        4891.0          0.0   \n",
       "1613782    1110.000000  0.000000e+00        1110.0        1110.0          0.0   \n",
       "313508     3321.166667  7.743265e+03       19122.0           4.0      19122.0   \n",
       "3455883  631153.857143  1.624567e+06     4314301.0           7.0     103768.0   \n",
       "623595     4330.000000  0.000000e+00        4330.0        4330.0          0.0   \n",
       "\n",
       "         Fwd IAT Mean  Fwd IAT Std  Fwd IAT Max  Fwd IAT Min  Bwd IAT Tot  \\\n",
       "972332       0.000000      0.00000          0.0          0.0          0.0   \n",
       "1613782      0.000000      0.00000          0.0          0.0          0.0   \n",
       "313508   19122.000000      0.00000      19122.0      19122.0      19927.0   \n",
       "3455883  34589.333333  59412.24757     103192.0         22.0    4417494.0   \n",
       "623595       0.000000      0.00000          0.0          0.0          0.0   \n",
       "\n",
       "         Bwd IAT Mean   Bwd IAT Std  Bwd IAT Max  Bwd IAT Min  Fwd PSH Flags  \\\n",
       "972332           0.00  0.000000e+00          0.0          0.0              0   \n",
       "1613782          0.00  0.000000e+00          0.0          0.0              0   \n",
       "313508        4981.75  9.601550e+03      19380.0          8.0              0   \n",
       "3455883    1472498.00  2.461609e+06    4314301.0        248.0              0   \n",
       "623595           0.00  0.000000e+00          0.0          0.0              0   \n",
       "\n",
       "         Bwd PSH Flags  Fwd URG Flags  Bwd URG Flags  Fwd Header Len  \\\n",
       "972332               0              0              0              32   \n",
       "1613782              0              0              0               8   \n",
       "313508               0              0              0              40   \n",
       "3455883              0              0              0             136   \n",
       "623595               0              0              0              32   \n",
       "\n",
       "         Bwd Header Len  Fwd Pkts/s  Bwd Pkts/s  Pkt Len Min  Pkt Len Max  \\\n",
       "972332               32  204.457166  204.457166          0.0          0.0   \n",
       "1613782               8  900.900901  900.900901         43.0         71.0   \n",
       "313508              124  100.366337  250.915843          0.0        935.0   \n",
       "3455883             136    0.905371    0.905371          0.0        935.0   \n",
       "623595               32  230.946882  230.946882          0.0          0.0   \n",
       "\n",
       "         Pkt Len Mean  Pkt Len Std    Pkt Len Var  FIN Flag Cnt  SYN Flag Cnt  \\\n",
       "972332       0.000000     0.000000       0.000000             0             0   \n",
       "1613782     52.333333    16.165808     261.333333             0             0   \n",
       "313508     156.375000   333.478608  111207.982143             0             1   \n",
       "3455883    136.111111   314.560982   98948.611111             0             0   \n",
       "623595       0.000000     0.000000       0.000000             0             0   \n",
       "\n",
       "         RST Flag Cnt  PSH Flag Cnt  ACK Flag Cnt  URG Flag Cnt  \\\n",
       "972332              0             0             1             0   \n",
       "1613782             0             0             0             0   \n",
       "313508              0             0             0             0   \n",
       "3455883             0             0             1             0   \n",
       "623595              0             0             1             0   \n",
       "\n",
       "         CWE Flag Count  ECE Flag Cnt  Down/Up Ratio  Pkt Size Avg  \\\n",
       "972332                0             0            1.0      0.000000   \n",
       "1613782               0             0            1.0     78.500000   \n",
       "313508                1             1            2.0    178.714286   \n",
       "3455883               0             0            1.0    153.125000   \n",
       "623595                0             0            1.0      0.000000   \n",
       "\n",
       "         Fwd Seg Size Avg  Bwd Seg Size Avg  Fwd Byts/b Avg  Fwd Pkts/b Avg  \\\n",
       "972332               0.00               0.0               0               0   \n",
       "1613782             43.00              71.0               0               0   \n",
       "313508             158.00             187.0               0               0   \n",
       "3455883            233.75              72.5               0               0   \n",
       "623595               0.00               0.0               0               0   \n",
       "\n",
       "         Fwd Blk Rate Avg  Bwd Byts/b Avg  Bwd Pkts/b Avg  Bwd Blk Rate Avg  \\\n",
       "972332                  0               0               0                 0   \n",
       "1613782                 0               0               0                 0   \n",
       "313508                  0               0               0                 0   \n",
       "3455883                 0               0               0                 0   \n",
       "623595                  0               0               0                 0   \n",
       "\n",
       "         Subflow Fwd Pkts  Subflow Fwd Byts  Subflow Bwd Pkts  \\\n",
       "972332                  1                 0                 1   \n",
       "1613782                 1                43                 1   \n",
       "313508                  2               316                 5   \n",
       "3455883                 4               935                 4   \n",
       "623595                  1                 0                 1   \n",
       "\n",
       "         Subflow Bwd Byts  Init Fwd Win Byts  Init Bwd Win Byts  \\\n",
       "972332                  0                 -1                225   \n",
       "1613782                71                 -1                 -1   \n",
       "313508                935                 -1                219   \n",
       "3455883               290                 -1                211   \n",
       "623595                  0                 -1                225   \n",
       "\n",
       "         Fwd Act Data Pkts  Fwd Seg Size Min  Active Mean  Active Std  \\\n",
       "972332                   0                 0          0.0         0.0   \n",
       "1613782                  0                 8          0.0         0.0   \n",
       "313508                   1                 0          0.0         0.0   \n",
       "3455883                  1                 0          0.0         0.0   \n",
       "623595                   0                 0          0.0         0.0   \n",
       "\n",
       "         Active Max  Active Min  Idle Mean  Idle Std  Idle Max  Idle Min  \\\n",
       "972332          0.0         0.0        0.0       0.0       0.0       0.0   \n",
       "1613782         0.0         0.0        0.0       0.0       0.0       0.0   \n",
       "313508          0.0         0.0        0.0       0.0       0.0       0.0   \n",
       "3455883         0.0         0.0        0.0       0.0       0.0       0.0   \n",
       "623595          0.0         0.0        0.0       0.0       0.0       0.0   \n",
       "\n",
       "          Label  \n",
       "972332     ddos  \n",
       "1613782  Benign  \n",
       "313508     ddos  \n",
       "3455883    ddos  \n",
       "623595     ddos  "
      ]
     },
     "execution_count": 11,
     "metadata": {},
     "output_type": "execute_result"
    }
   ],
   "source": [
    "pd.set_option('display.max_columns',85)\n",
    "train.sample(n=5)"
   ]
  },
  {
   "cell_type": "code",
   "execution_count": 4,
   "metadata": {},
   "outputs": [],
   "source": [
    "from sklearn import preprocessing \n",
    "for f in train.columns: \n",
    "    if train[f].dtype=='object': \n",
    "        label = preprocessing.LabelEncoder() \n",
    "        label.fit(list(train[f].values)) \n",
    "        train[f] = lbl.transform(list(train[f].values))\n",
    "train.fillna((-999), inplace=True) \n",
    "train=np.array(train) \n",
    "train = train.astype(float) "
   ]
  },
  {
   "cell_type": "code",
   "execution_count": 5,
   "metadata": {},
   "outputs": [],
   "source": [
    "Y = train['Label']\n",
    "X = train.drop(\"Label\",axis=1)"
   ]
  },
  {
   "cell_type": "code",
   "execution_count": 6,
   "metadata": {
    "scrolled": true
   },
   "outputs": [
    {
     "name": "stdout",
     "output_type": "stream",
     "text": [
      "(12794627, 84)\n",
      "(12794627, 83)\n",
      "(12794627,)\n"
     ]
    }
   ],
   "source": [
    "print(train.shape)\n",
    "print(X.shape)\n",
    "print(Y.shape)"
   ]
  },
  {
   "cell_type": "code",
   "execution_count": 7,
   "metadata": {},
   "outputs": [],
   "source": [
    "# split data into train and test sets\n",
    "seed = 7\n",
    "test_size = 0.33\n",
    "X_train, X_test, y_train, y_test = train_test_split(X, Y, test_size=test_size, random_state=seed)"
   ]
  },
  {
   "cell_type": "code",
   "execution_count": 8,
   "metadata": {},
   "outputs": [
    {
     "name": "stdout",
     "output_type": "stream",
     "text": [
      "(8572400, 83)\n",
      "(8572400,)\n",
      "(4222227, 83)\n",
      "(4222227,)\n"
     ]
    }
   ],
   "source": [
    "print(X_train.shape)\n",
    "print(y_train.shape)\n",
    "print(X_test.shape)\n",
    "print(y_test.shape)"
   ]
  },
  {
   "cell_type": "markdown",
   "metadata": {},
   "source": [
    "--------------------------\n",
    "GRADIENT BOOSTING\n"
   ]
  },
  {
   "cell_type": "code",
   "execution_count": 20,
   "metadata": {},
   "outputs": [
    {
     "name": "stdout",
     "output_type": "stream",
     "text": [
      "CPU times: user 2h 4min 15s, sys: 10.4 s, total: 2h 4min 26s\n",
      "Wall time: 5min 52s\n"
     ]
    }
   ],
   "source": [
    "%%time\n",
    "######gradient boosting \n",
    "# fit model on training data\n",
    "model = XGBClassifier(n_jobs=-1)\n",
    "model.fit(X_train, y_train)"
   ]
  },
  {
   "cell_type": "code",
   "execution_count": 12,
   "metadata": {
    "scrolled": false
   },
   "outputs": [
    {
     "name": "stdout",
     "output_type": "stream",
     "text": [
      "XGBClassifier(base_score=0.5, booster='gbtree', colsample_bylevel=1,\n",
      "       colsample_bytree=1, gamma=0, learning_rate=0.1, max_delta_step=0,\n",
      "       max_depth=3, min_child_weight=1, missing=None, n_estimators=100,\n",
      "       n_jobs=-1, nthread=None, objective='binary:logistic',\n",
      "       random_state=0, reg_alpha=0, reg_lambda=1, scale_pos_weight=1,\n",
      "       seed=None, silent=True, subsample=1)\n"
     ]
    }
   ],
   "source": [
    "print(model)"
   ]
  },
  {
   "cell_type": "markdown",
   "metadata": {},
   "source": [
    "----------------------------\n",
    "STOCHASTIC GRADIENT BOOSTING\n",
    "____________________________"
   ]
  },
  {
   "cell_type": "markdown",
   "metadata": {},
   "source": [
    "-------Hyper perameter tunning---------------"
   ]
  },
  {
   "cell_type": "code",
   "execution_count": 31,
   "metadata": {},
   "outputs": [],
   "source": [
    "###finding optimal hyperameters using gridssearch CV\n",
    "\n",
    "#params = {'subsample': [0.1, 0.2, 0.3, 0.4, 0.5, 0.6, 0.7, 0.8, 1.0],\n",
    "#          'colsample_bytree': [0.1, 0.2, 0.3, 0.4, 0.5, 0.6, 0.7, 0.8, 1.0], \n",
    "#          'colsample_bylevel':[0.1, 0.2, 0.3, 0.4, 0.5, 0.6, 0.7, 0.8, 1.0]}\n",
    "para1={'subsample': [0.1, 0.2, 0.3, 0.4, 0.5, 0.6, 0.7, 0.8, 1.0]}  \n",
    "para2={'colsample_bytree': [0.1, 0.2, 0.3, 0.4, 0.5, 0.6, 0.7, 0.8, 1.0]}\n",
    "para3={'colsample_bylevel':[0.1, 0.2, 0.3, 0.4, 0.5, 0.6, 0.7, 0.8, 1.0]}\n",
    "                "
   ]
  },
  {
   "cell_type": "code",
   "execution_count": 29,
   "metadata": {},
   "outputs": [
    {
     "name": "stdout",
     "output_type": "stream",
     "text": [
      "Fitting 3 folds for each of 9 candidates, totalling 27 fits\n"
     ]
    },
    {
     "name": "stderr",
     "output_type": "stream",
     "text": [
      "[Parallel(n_jobs=1)]: Using backend SequentialBackend with 1 concurrent workers.\n",
      "[Parallel(n_jobs=1)]: Done  27 out of  27 | elapsed: 93.4min finished\n"
     ]
    },
    {
     "name": "stdout",
     "output_type": "stream",
     "text": [
      "CPU times: user 1d 10h 26min 51s, sys: 5min 15s, total: 1d 10h 32min 6s\n",
      "Wall time: 1h 38min 36s\n"
     ]
    }
   ],
   "source": [
    "%%time\n",
    "##### stochastic gradient descent \n",
    "\n",
    "model = XGBClassifier(n_jobs=-1)\n",
    "#params = {'subsample': [0.1, 0.2, 0.3, 0.4, 0.5, 0.6, 0.7, 0.8, 1.0]\n",
    "#subsample = [0.1, 0.2, 0.3, 0.4, 0.5]\n",
    "#param_grid = dict(subsample=subsample)         \n",
    "#Making models with hyper parameters sets\n",
    "model_t = GridSearchCV(model, param_grid=para1,cv=3,verbose=True)\n",
    "#Learning\n",
    "model_t.fit(X_train, y_train)"
   ]
  },
  {
   "cell_type": "code",
   "execution_count": null,
   "metadata": {},
   "outputs": [],
   "source": [
    "#####parameters for \n",
    "#subsample  //row samplimg \n",
    "#colsample_bytree //Tuning Column Subsampling in XGBoost By Tree\n",
    "#---> =1 , means all columns are used in each tree \n",
    "\n",
    "#colsample_bylevel//Tuning Column Subsampling in XGBoost By Split"
   ]
  },
  {
   "cell_type": "code",
   "execution_count": null,
   "metadata": {},
   "outputs": [],
   "source": []
  },
  {
   "cell_type": "code",
   "execution_count": 30,
   "metadata": {},
   "outputs": [
    {
     "name": "stdout",
     "output_type": "stream",
     "text": [
      "Best Hyper Parameters: {'subsample': 0.4}\n"
     ]
    }
   ],
   "source": [
    "print(\"Best Hyper Parameters:\",model_t.best_params_)"
   ]
  },
  {
   "cell_type": "code",
   "execution_count": 32,
   "metadata": {},
   "outputs": [
    {
     "name": "stdout",
     "output_type": "stream",
     "text": [
      "Fitting 3 folds for each of 9 candidates, totalling 27 fits\n"
     ]
    },
    {
     "name": "stderr",
     "output_type": "stream",
     "text": [
      "[Parallel(n_jobs=1)]: Using backend SequentialBackend with 1 concurrent workers.\n"
     ]
    },
    {
     "name": "stdout",
     "output_type": "stream",
     "text": [
      "[CV] colsample_bytree=0.1 ............................................\n",
      "[CV] ... colsample_bytree=0.1, score=0.9998089216778356, total= 2.1min\n",
      "[CV] colsample_bytree=0.1 ............................................\n"
     ]
    },
    {
     "name": "stderr",
     "output_type": "stream",
     "text": [
      "[Parallel(n_jobs=1)]: Done   1 out of   1 | elapsed:  2.2min remaining:    0.0s\n"
     ]
    },
    {
     "name": "stdout",
     "output_type": "stream",
     "text": [
      "[CV] .... colsample_bytree=0.1, score=0.999752928030315, total= 2.1min\n",
      "[CV] colsample_bytree=0.1 ............................................\n"
     ]
    },
    {
     "name": "stderr",
     "output_type": "stream",
     "text": [
      "[Parallel(n_jobs=1)]: Done   2 out of   2 | elapsed:  4.5min remaining:    0.0s\n"
     ]
    },
    {
     "name": "stdout",
     "output_type": "stream",
     "text": [
      "[CV] ... colsample_bytree=0.1, score=0.9997340300811978, total= 2.1min\n",
      "[CV] colsample_bytree=0.2 ............................................\n",
      "[CV] ... colsample_bytree=0.2, score=0.9999671037320816, total= 2.4min\n",
      "[CV] colsample_bytree=0.2 ............................................\n",
      "[CV] ... colsample_bytree=0.2, score=0.9999786524218828, total= 2.4min\n",
      "[CV] colsample_bytree=0.2 ............................................\n",
      "[CV] ... colsample_bytree=0.2, score=0.9999797022956703, total= 2.4min\n",
      "[CV] colsample_bytree=0.3 ............................................\n",
      "[CV] ... colsample_bytree=0.3, score=0.9999846017469318, total= 2.7min\n",
      "[CV] colsample_bytree=0.3 ............................................\n",
      "[CV] ... colsample_bytree=0.3, score=0.9999856516278228, total= 2.6min\n",
      "[CV] colsample_bytree=0.3 ............................................\n",
      "[CV] ... colsample_bytree=0.3, score=0.9999884513061573, total= 2.6min\n",
      "[CV] colsample_bytree=0.4 ............................................\n",
      "[CV] ... colsample_bytree=0.4, score=0.9999828519454468, total= 2.7min\n",
      "[CV] colsample_bytree=0.4 ............................................\n",
      "[CV] ... colsample_bytree=0.4, score=0.9999811021439617, total= 2.8min\n",
      "[CV] colsample_bytree=0.4 ............................................\n",
      "[CV] ... colsample_bytree=0.4, score=0.9999902011082547, total= 2.8min\n",
      "[CV] colsample_bytree=0.5 ............................................\n",
      "[CV] ... colsample_bytree=0.5, score=0.9999821520248527, total= 2.7min\n",
      "[CV] colsample_bytree=0.5 ............................................\n",
      "[CV] ... colsample_bytree=0.5, score=0.9999779525012887, total= 2.7min\n",
      "[CV] colsample_bytree=0.5 ............................................\n",
      "[CV] .... colsample_bytree=0.5, score=0.999985301662382, total= 2.7min\n",
      "[CV] colsample_bytree=0.6 ............................................\n",
      "[CV] ... colsample_bytree=0.6, score=0.9999853016675259, total= 3.0min\n",
      "[CV] colsample_bytree=0.6 ............................................\n",
      "[CV] ... colsample_bytree=0.6, score=0.9999839018263378, total= 3.0min\n",
      "[CV] colsample_bytree=0.6 ............................................\n",
      "[CV] ... colsample_bytree=0.6, score=0.9999807521769288, total= 2.9min\n",
      "[CV] colsample_bytree=0.7 ............................................\n",
      "[CV] ... colsample_bytree=0.7, score=0.9999926508337629, total= 3.2min\n",
      "[CV] colsample_bytree=0.7 ............................................\n",
      "[CV] ... colsample_bytree=0.7, score=0.9999902011116839, total= 3.2min\n",
      "[CV] colsample_bytree=0.7 ............................................\n",
      "[CV] ... colsample_bytree=0.7, score=0.9999951005541273, total= 3.3min\n",
      "[CV] colsample_bytree=0.8 ............................................\n",
      "[CV] .... colsample_bytree=0.8, score=0.999994050674951, total= 3.3min\n",
      "[CV] colsample_bytree=0.8 ............................................\n",
      "[CV] .... colsample_bytree=0.8, score=0.999991950913169, total= 3.3min\n",
      "[CV] colsample_bytree=0.8 ............................................\n",
      "[CV] ... colsample_bytree=0.8, score=0.9999947505937079, total= 3.4min\n",
      "[CV] colsample_bytree=1.0 ............................................\n",
      "[CV] .... colsample_bytree=1.0, score=0.999995800476436, total= 3.8min\n",
      "[CV] colsample_bytree=1.0 ............................................\n",
      "[CV] ... colsample_bytree=1.0, score=0.9999954505161389, total= 3.9min\n",
      "[CV] colsample_bytree=1.0 ............................................\n",
      "[CV] ... colsample_bytree=1.0, score=0.9999965003958052, total= 3.7min\n"
     ]
    },
    {
     "name": "stderr",
     "output_type": "stream",
     "text": [
      "[Parallel(n_jobs=1)]: Done  27 out of  27 | elapsed: 81.5min finished\n"
     ]
    },
    {
     "name": "stdout",
     "output_type": "stream",
     "text": [
      "CPU times: user 22h 32min 43s, sys: 5min 6s, total: 22h 37min 50s\n",
      "Wall time: 1h 27min 18s\n"
     ]
    }
   ],
   "source": [
    "%%time\n",
    "##### stochastic gradient descent \n",
    "\n",
    "model = XGBClassifier(n_jobs=-1)\n",
    "model_2 = GridSearchCV(model, param_grid=para2,cv=3,verbose=3)\n",
    "\n",
    "model_2.fit(X_train, y_train)"
   ]
  },
  {
   "cell_type": "code",
   "execution_count": 33,
   "metadata": {},
   "outputs": [
    {
     "name": "stdout",
     "output_type": "stream",
     "text": [
      "Best Hyper Parameters: {'colsample_bytree': 1.0}\n"
     ]
    }
   ],
   "source": [
    "print(\"Best Hyper Parameters:\",model_2.best_params_)"
   ]
  },
  {
   "cell_type": "code",
   "execution_count": 34,
   "metadata": {},
   "outputs": [
    {
     "name": "stdout",
     "output_type": "stream",
     "text": [
      "Fitting 3 folds for each of 9 candidates, totalling 27 fits\n"
     ]
    },
    {
     "name": "stderr",
     "output_type": "stream",
     "text": [
      "[Parallel(n_jobs=1)]: Using backend SequentialBackend with 1 concurrent workers.\n"
     ]
    },
    {
     "name": "stdout",
     "output_type": "stream",
     "text": [
      "[CV] colsample_bylevel=0.1 ...........................................\n",
      "[CV] ... colsample_bylevel=0.1, score=0.999995800476436, total= 3.8min\n",
      "[CV] colsample_bylevel=0.1 ...........................................\n"
     ]
    },
    {
     "name": "stderr",
     "output_type": "stream",
     "text": [
      "[Parallel(n_jobs=1)]: Done   1 out of   1 | elapsed:  4.0min remaining:    0.0s\n"
     ]
    },
    {
     "name": "stdout",
     "output_type": "stream",
     "text": [
      "[CV] .. colsample_bylevel=0.1, score=0.9999954505161389, total= 3.8min\n",
      "[CV] colsample_bylevel=0.1 ...........................................\n"
     ]
    },
    {
     "name": "stderr",
     "output_type": "stream",
     "text": [
      "[Parallel(n_jobs=1)]: Done   2 out of   2 | elapsed:  8.0min remaining:    0.0s\n"
     ]
    },
    {
     "name": "stdout",
     "output_type": "stream",
     "text": [
      "[CV] .. colsample_bylevel=0.1, score=0.9999965003958052, total= 3.8min\n",
      "[CV] colsample_bylevel=0.2 ...........................................\n",
      "[CV] ... colsample_bylevel=0.2, score=0.999995800476436, total= 3.8min\n",
      "[CV] colsample_bylevel=0.2 ...........................................\n",
      "[CV] .. colsample_bylevel=0.2, score=0.9999954505161389, total= 3.8min\n",
      "[CV] colsample_bylevel=0.2 ...........................................\n",
      "[CV] .. colsample_bylevel=0.2, score=0.9999965003958052, total= 3.8min\n",
      "[CV] colsample_bylevel=0.3 ...........................................\n",
      "[CV] ... colsample_bylevel=0.3, score=0.999995800476436, total= 3.8min\n",
      "[CV] colsample_bylevel=0.3 ...........................................\n",
      "[CV] .. colsample_bylevel=0.3, score=0.9999954505161389, total= 3.8min\n",
      "[CV] colsample_bylevel=0.3 ...........................................\n",
      "[CV] .. colsample_bylevel=0.3, score=0.9999965003958052, total= 3.7min\n",
      "[CV] colsample_bylevel=0.4 ...........................................\n",
      "[CV] ... colsample_bylevel=0.4, score=0.999995800476436, total= 3.7min\n",
      "[CV] colsample_bylevel=0.4 ...........................................\n",
      "[CV] .. colsample_bylevel=0.4, score=0.9999954505161389, total= 3.7min\n",
      "[CV] colsample_bylevel=0.4 ...........................................\n",
      "[CV] .. colsample_bylevel=0.4, score=0.9999965003958052, total= 3.8min\n",
      "[CV] colsample_bylevel=0.5 ...........................................\n",
      "[CV] ... colsample_bylevel=0.5, score=0.999995800476436, total= 3.8min\n",
      "[CV] colsample_bylevel=0.5 ...........................................\n",
      "[CV] .. colsample_bylevel=0.5, score=0.9999954505161389, total= 3.9min\n",
      "[CV] colsample_bylevel=0.5 ...........................................\n",
      "[CV] .. colsample_bylevel=0.5, score=0.9999965003958052, total= 3.8min\n",
      "[CV] colsample_bylevel=0.6 ...........................................\n",
      "[CV] ... colsample_bylevel=0.6, score=0.999995800476436, total= 3.6min\n",
      "[CV] colsample_bylevel=0.6 ...........................................\n",
      "[CV] .. colsample_bylevel=0.6, score=0.9999954505161389, total= 3.7min\n",
      "[CV] colsample_bylevel=0.6 ...........................................\n",
      "[CV] .. colsample_bylevel=0.6, score=0.9999965003958052, total= 3.8min\n",
      "[CV] colsample_bylevel=0.7 ...........................................\n",
      "[CV] ... colsample_bylevel=0.7, score=0.999995800476436, total= 3.7min\n",
      "[CV] colsample_bylevel=0.7 ...........................................\n",
      "[CV] .. colsample_bylevel=0.7, score=0.9999954505161389, total= 3.7min\n",
      "[CV] colsample_bylevel=0.7 ...........................................\n",
      "[CV] .. colsample_bylevel=0.7, score=0.9999965003958052, total= 3.7min\n",
      "[CV] colsample_bylevel=0.8 ...........................................\n",
      "[CV] ... colsample_bylevel=0.8, score=0.999995800476436, total= 3.7min\n",
      "[CV] colsample_bylevel=0.8 ...........................................\n",
      "[CV] .. colsample_bylevel=0.8, score=0.9999954505161389, total= 3.7min\n",
      "[CV] colsample_bylevel=0.8 ...........................................\n",
      "[CV] .. colsample_bylevel=0.8, score=0.9999965003958052, total= 3.8min\n",
      "[CV] colsample_bylevel=1.0 ...........................................\n",
      "[CV] ... colsample_bylevel=1.0, score=0.999995800476436, total= 3.7min\n",
      "[CV] colsample_bylevel=1.0 ...........................................\n",
      "[CV] .. colsample_bylevel=1.0, score=0.9999954505161389, total= 3.8min\n",
      "[CV] colsample_bylevel=1.0 ...........................................\n",
      "[CV] .. colsample_bylevel=1.0, score=0.9999965003958052, total= 3.8min\n"
     ]
    },
    {
     "name": "stderr",
     "output_type": "stream",
     "text": [
      "[Parallel(n_jobs=1)]: Done  27 out of  27 | elapsed: 105.6min finished\n"
     ]
    },
    {
     "name": "stdout",
     "output_type": "stream",
     "text": [
      "CPU times: user 1d 12h 34min 30s, sys: 11min 50s, total: 1d 12h 46min 20s\n",
      "Wall time: 1h 51min 34s\n"
     ]
    }
   ],
   "source": [
    "%%time\n",
    "##### stochastic gradient descent \n",
    "\n",
    "model = XGBClassifier(n_jobs=-1)\n",
    "model_3 = GridSearchCV(model, param_grid=para3,cv=3,verbose=3)\n",
    "\n",
    "model_3.fit(X_train, y_train)"
   ]
  },
  {
   "cell_type": "code",
   "execution_count": 35,
   "metadata": {},
   "outputs": [
    {
     "name": "stdout",
     "output_type": "stream",
     "text": [
      "Best Hyper Parameters: {'colsample_bylevel': 0.1}\n"
     ]
    }
   ],
   "source": [
    "print(\"Best Hyper Parameters:\",model_3.best_params_)"
   ]
  },
  {
   "cell_type": "code",
   "execution_count": 11,
   "metadata": {},
   "outputs": [],
   "source": [
    "n_estimators = [100, 200, 300, 400, 500]\n",
    "learning_rate = [0.0001, 0.001, 0.01, 0.1,0.2]\n",
    "para4={'n_estimators': [100, 200, 300, 400, 500]}  \n",
    "para5={'learning_rate': [0.0001, 0.001, 0.01, 0.1,0.2]}"
   ]
  },
  {
   "cell_type": "code",
   "execution_count": 15,
   "metadata": {},
   "outputs": [
    {
     "name": "stdout",
     "output_type": "stream",
     "text": [
      "Fitting 3 folds for each of 5 candidates, totalling 15 fits\n"
     ]
    },
    {
     "name": "stderr",
     "output_type": "stream",
     "text": [
      "[Parallel(n_jobs=1)]: Using backend SequentialBackend with 1 concurrent workers.\n"
     ]
    },
    {
     "name": "stdout",
     "output_type": "stream",
     "text": [
      "[CV] learning_rate=0.0001 ............................................\n",
      "[CV] ... learning_rate=0.0001, score=0.9949941679116504, total= 3.9min\n",
      "[CV] learning_rate=0.0001 ............................................\n"
     ]
    },
    {
     "name": "stderr",
     "output_type": "stream",
     "text": [
      "[Parallel(n_jobs=1)]: Done   1 out of   1 | elapsed:  4.0min remaining:    0.0s\n"
     ]
    },
    {
     "name": "stdout",
     "output_type": "stream",
     "text": [
      "[CV] ... learning_rate=0.0001, score=0.9950571607651112, total= 3.9min\n",
      "[CV] learning_rate=0.0001 ............................................\n"
     ]
    },
    {
     "name": "stderr",
     "output_type": "stream",
     "text": [
      "[Parallel(n_jobs=1)]: Done   2 out of   2 | elapsed:  8.1min remaining:    0.0s\n"
     ]
    },
    {
     "name": "stdout",
     "output_type": "stream",
     "text": [
      "[CV] ... learning_rate=0.0001, score=0.9950540093915378, total= 4.0min\n",
      "[CV] learning_rate=0.001 .............................................\n",
      "[CV] .... learning_rate=0.001, score=0.9949941679116504, total= 3.8min\n",
      "[CV] learning_rate=0.001 .............................................\n",
      "[CV] .... learning_rate=0.001, score=0.9950571607651112, total= 3.9min\n",
      "[CV] learning_rate=0.001 .............................................\n",
      "[CV] .... learning_rate=0.001, score=0.9950540093915378, total= 3.8min\n",
      "[CV] learning_rate=0.01 ..............................................\n",
      "[CV] ..... learning_rate=0.01, score=0.9949941679116504, total= 3.8min\n",
      "[CV] learning_rate=0.01 ..............................................\n",
      "[CV] ..... learning_rate=0.01, score=0.9950571607651112, total= 3.8min\n",
      "[CV] learning_rate=0.01 ..............................................\n",
      "[CV] ..... learning_rate=0.01, score=0.9950540093915378, total= 3.9min\n",
      "[CV] learning_rate=0.1 ...............................................\n",
      "[CV] ....... learning_rate=0.1, score=0.999995800476436, total= 3.8min\n",
      "[CV] learning_rate=0.1 ...............................................\n",
      "[CV] ...... learning_rate=0.1, score=0.9999954505161389, total= 3.8min\n",
      "[CV] learning_rate=0.1 ...............................................\n",
      "[CV] ...... learning_rate=0.1, score=0.9999965003958052, total= 3.9min\n",
      "[CV] learning_rate=0.2 ...............................................\n",
      "[CV] ....... learning_rate=0.2, score=0.999998950119109, total= 3.9min\n",
      "[CV] learning_rate=0.2 ...............................................\n",
      "[CV] ..................... learning_rate=0.2, score=1.0, total= 3.8min\n",
      "[CV] learning_rate=0.2 ...............................................\n",
      "[CV] ...... learning_rate=0.2, score=0.9999996500395806, total= 3.7min\n"
     ]
    },
    {
     "name": "stderr",
     "output_type": "stream",
     "text": [
      "[Parallel(n_jobs=1)]: Done  15 out of  15 | elapsed: 59.8min finished\n"
     ]
    },
    {
     "data": {
      "text/plain": [
       "GridSearchCV(cv=3, error_score='raise-deprecating',\n",
       "       estimator=XGBClassifier(base_score=0.5, booster='gbtree', colsample_bylevel=1,\n",
       "       colsample_bytree=1, gamma=0, learning_rate=0.1, max_delta_step=0,\n",
       "       max_depth=3, min_child_weight=1, missing=None, n_estimators=100,\n",
       "       n_jobs=-1, nthread=None, objective='binary:logistic',\n",
       "       random_state=0, reg_alpha=0, reg_lambda=1, scale_pos_weight=1,\n",
       "       seed=None, silent=True, subsample=1),\n",
       "       fit_params=None, iid='warn', n_jobs=None,\n",
       "       param_grid={'learning_rate': [0.0001, 0.001, 0.01, 0.1, 0.2]},\n",
       "       pre_dispatch='2*n_jobs', refit=True, return_train_score='warn',\n",
       "       scoring='accuracy', verbose=3)"
      ]
     },
     "execution_count": 15,
     "metadata": {},
     "output_type": "execute_result"
    }
   ],
   "source": [
    "model = XGBClassifier(n_jobs=-1)\n",
    "model_4 = GridSearchCV(model, param_grid=para5,cv=3,verbose=3,scoring='accuracy')\n",
    "\n",
    "model_4.fit(X_train, y_train)"
   ]
  },
  {
   "cell_type": "code",
   "execution_count": 18,
   "metadata": {},
   "outputs": [
    {
     "name": "stdout",
     "output_type": "stream",
     "text": [
      "Best Hyper Parameters: {'learning_rate': 0.2}\n"
     ]
    }
   ],
   "source": [
    "print(\"Best Hyper Parameters:\",model_4.best_params_)"
   ]
  },
  {
   "cell_type": "code",
   "execution_count": 12,
   "metadata": {
    "scrolled": true
   },
   "outputs": [
    {
     "name": "stdout",
     "output_type": "stream",
     "text": [
      "Fitting 3 folds for each of 5 candidates, totalling 15 fits\n"
     ]
    },
    {
     "name": "stderr",
     "output_type": "stream",
     "text": [
      "[Parallel(n_jobs=1)]: Using backend SequentialBackend with 1 concurrent workers.\n"
     ]
    },
    {
     "name": "stdout",
     "output_type": "stream",
     "text": [
      "[CV] n_estimators=100 ................................................\n",
      "[CV] ........ n_estimators=100, score=0.999995800476436, total= 3.9min\n",
      "[CV] n_estimators=100 ................................................\n"
     ]
    },
    {
     "name": "stderr",
     "output_type": "stream",
     "text": [
      "[Parallel(n_jobs=1)]: Done   1 out of   1 | elapsed:  4.0min remaining:    0.0s\n"
     ]
    },
    {
     "name": "stdout",
     "output_type": "stream",
     "text": [
      "[CV] ....... n_estimators=100, score=0.9999954505161389, total= 3.8min\n",
      "[CV] n_estimators=100 ................................................\n"
     ]
    },
    {
     "name": "stderr",
     "output_type": "stream",
     "text": [
      "[Parallel(n_jobs=1)]: Done   2 out of   2 | elapsed:  8.0min remaining:    0.0s\n"
     ]
    },
    {
     "name": "stdout",
     "output_type": "stream",
     "text": [
      "[CV] ....... n_estimators=100, score=0.9999965003958052, total= 3.8min\n",
      "[CV] n_estimators=200 ................................................\n",
      "[CV] ........ n_estimators=200, score=0.999999300079406, total= 7.2min\n",
      "[CV] n_estimators=200 ................................................\n",
      "[CV] ...................... n_estimators=200, score=1.0, total= 7.3min\n",
      "[CV] n_estimators=200 ................................................\n",
      "[CV] ...................... n_estimators=200, score=1.0, total= 7.1min\n",
      "[CV] n_estimators=300 ................................................\n",
      "[CV] ........ n_estimators=300, score=0.999999650039703, total=10.4min\n",
      "[CV] n_estimators=300 ................................................\n",
      "[CV] ...................... n_estimators=300, score=1.0, total=10.6min\n",
      "[CV] n_estimators=300 ................................................\n",
      "[CV] ...................... n_estimators=300, score=1.0, total=10.4min\n",
      "[CV] n_estimators=400 ................................................\n",
      "[CV] ........ n_estimators=400, score=0.999999650039703, total=13.1min\n",
      "[CV] n_estimators=400 ................................................\n",
      "[CV] ...................... n_estimators=400, score=1.0, total=13.4min\n",
      "[CV] n_estimators=400 ................................................\n",
      "[CV] ...................... n_estimators=400, score=1.0, total=13.3min\n",
      "[CV] n_estimators=500 ................................................\n",
      "[CV] ........ n_estimators=500, score=0.999999650039703, total=16.1min\n",
      "[CV] n_estimators=500 ................................................\n",
      "[CV] ...................... n_estimators=500, score=1.0, total=15.9min\n",
      "[CV] n_estimators=500 ................................................\n",
      "[CV] ...................... n_estimators=500, score=1.0, total=15.8min\n"
     ]
    },
    {
     "name": "stderr",
     "output_type": "stream",
     "text": [
      "[Parallel(n_jobs=1)]: Done  15 out of  15 | elapsed: 154.3min finished\n"
     ]
    },
    {
     "data": {
      "text/plain": [
       "GridSearchCV(cv=3, error_score='raise-deprecating',\n",
       "       estimator=XGBClassifier(base_score=0.5, booster='gbtree', colsample_bylevel=1,\n",
       "       colsample_bytree=1, gamma=0, learning_rate=0.1, max_delta_step=0,\n",
       "       max_depth=3, min_child_weight=1, missing=None, n_estimators=100,\n",
       "       n_jobs=-1, nthread=None, objective='binary:logistic',\n",
       "       random_state=0, reg_alpha=0, reg_lambda=1, scale_pos_weight=1,\n",
       "       seed=None, silent=True, subsample=1),\n",
       "       fit_params=None, iid='warn', n_jobs=None,\n",
       "       param_grid={'n_estimators': [100, 200, 300, 400, 500]},\n",
       "       pre_dispatch='2*n_jobs', refit=True, return_train_score='warn',\n",
       "       scoring='accuracy', verbose=3)"
      ]
     },
     "execution_count": 12,
     "metadata": {},
     "output_type": "execute_result"
    }
   ],
   "source": [
    "model = XGBClassifier(n_jobs=-1)\n",
    "model_5 = GridSearchCV(model, param_grid=para4,cv=3,verbose=3,scoring='accuracy')\n",
    "\n",
    "model_5.fit(X_train, y_train)"
   ]
  },
  {
   "cell_type": "code",
   "execution_count": 14,
   "metadata": {},
   "outputs": [
    {
     "name": "stdout",
     "output_type": "stream",
     "text": [
      "Best Hyper Parameters: {'n_estimators': 300}\n"
     ]
    }
   ],
   "source": [
    "print(\"Best Hyper Parameters:\",model_5.best_params_)"
   ]
  },
  {
   "cell_type": "code",
   "execution_count": null,
   "metadata": {},
   "outputs": [],
   "source": [
    "\n",
    "####hyperperameters found by GRODSERCH CV\n",
    "'subsample': 0.4\n",
    "'colsample_bytree': 1.0\n",
    "'colsample_bylevel': 0.1\n",
    " 'n_estimators':300   \n",
    "    \n",
    "#######################################    "
   ]
  },
  {
   "cell_type": "markdown",
   "metadata": {},
   "source": [
    "##########Running Final TUNED MODEL####################"
   ]
  },
  {
   "cell_type": "code",
   "execution_count": 9,
   "metadata": {},
   "outputs": [
    {
     "name": "stdout",
     "output_type": "stream",
     "text": [
      "CPU times: user 4h 39min 24s, sys: 10.8 s, total: 4h 39min 34s\n",
      "Wall time: 11min 51s\n"
     ]
    }
   ],
   "source": [
    "%%time\n",
    "model =XGBClassifier(max_depth=5,learning_rate=0.2,subsample=0.4,colsample_bytree=1.0,colsample_bylevel=0.1,n_estimators=200,n_jobs=-1)\n",
    "model.fit(X_train, y_train)"
   ]
  },
  {
   "cell_type": "code",
   "execution_count": 11,
   "metadata": {},
   "outputs": [],
   "source": [
    "y_pred = model.predict(X_test)"
   ]
  },
  {
   "cell_type": "code",
   "execution_count": 12,
   "metadata": {},
   "outputs": [
    {
     "name": "stdout",
     "output_type": "stream",
     "text": [
      "accuracy: 1.0\n",
      "f1-acore: 1.0\n",
      "confusion matrix:\n",
      " [[2086461       0]\n",
      " [      0 2135766]]\n",
      "Precision: 1.0\n",
      "Recall_score: 1.0\n",
      "Misclassified : 0\n"
     ]
    }
   ],
   "source": [
    "accuracy = accuracy_score(y_test, y_pred)\n",
    "print(\"accuracy:\",accuracy)\n",
    "f1score=f1_score(y_test, y_pred)\n",
    "print(\"f1-acore:\",f1score)\n",
    "cm=confusion_matrix(y_test, y_pred)\n",
    "print(\"confusion matrix:\\n\",cm)\n",
    "pr=precision_score(y_test,y_pred)\n",
    "print(\"Precision:\",pr)\n",
    "rs=recall_score(y_test,y_pred)\n",
    "print(\"Recall_score:\",rs)\n",
    "misclassified_samples = X_test[y_test != y_pred]\n",
    "mc=misclassified_samples.shape[0]\n",
    "print(\"Misclassified :\",mc)"
   ]
  },
  {
   "cell_type": "markdown",
   "metadata": {},
   "source": [
    "######ROC CURVE########"
   ]
  },
  {
   "cell_type": "code",
   "execution_count": 13,
   "metadata": {},
   "outputs": [
    {
     "data": {
      "image/png": "[encoded data removed]",
      "text/plain": [
       "<Figure size 432x288 with 1 Axes>"
      ]
     },
     "metadata": {
      "needs_background": "light"
     },
     "output_type": "display_data"
    }
   ],
   "source": [
    "from sklearn.metrics import roc_curve, auc\n",
    "fpr, tpr, thresholds = roc_curve(y_pred, y_test)\n",
    "roc_auc = auc(fpr, tpr)\n",
    "\n",
    "plt.figure()\n",
    "plt.plot(fpr, tpr, color='darkorange', lw=2, label='ROC curve (area = %0.2f)' % roc_auc, marker='.')\n",
    "plt.plot([0, 1], [0, 1], color='navy', lw=1, linestyle='--')\n",
    "plt.xlim([0.0, 1.0])\n",
    "plt.ylim([0.0, 1.05])\n",
    "plt.xlabel('False Positive Rate')\n",
    "plt.ylabel('True Positive Rate')\n",
    "plt.title('Receiver operating characteristic SGB(XGBOOST)')\n",
    "plt.legend(loc=\"lower right\")\n",
    "plt.show()"
   ]
  },
  {
   "cell_type": "markdown",
   "metadata": {},
   "source": [
    "#####Feature Importance\n",
    "\n",
    "\n",
    "\n",
    "\n"
   ]
  },
  {
   "cell_type": "code",
   "execution_count": 15,
   "metadata": {},
   "outputs": [
    {
     "data": {
      "image/png": "[encoded data removed]",
      "text/plain": [
       "<Figure size 432x288 with 1 Axes>"
      ]
     },
     "metadata": {
      "needs_background": "light"
     },
     "output_type": "display_data"
    }
   ],
   "source": [
    "from xgboost import plot_importance\n",
    "#plot_importance(model,max_num_features=15,)\n",
    "#plot_importance(model)\n",
    "plot_importance(model, ax=None, height=0.1, xlim=None, ylim=None, title='Feature importance by SGB(XGBOOST)', xlabel='F score', ylabel='Features', importance_type='weight', max_num_features=10, grid=True,)\n",
    "pyplot.show()"
   ]
  },
  {
   "cell_type": "code",
   "execution_count": null,
   "metadata": {},
   "outputs": [],
   "source": []
  }
 ],
 "metadata": {
  "kernelspec": {
   "display_name": "Python 3",
   "language": "python",
   "name": "python3"
  },
  "language_info": {
   "codemirror_mode": {
    "name": "ipython",
    "version": 3
   },
   "file_extension": ".py",
   "mimetype": "text/x-python",
   "name": "python",
   "nbconvert_exporter": "python",
   "pygments_lexer": "ipython3",
   "version": "3.6.3"
  }
 },
 "nbformat": 4,
 "nbformat_minor": 2
}
